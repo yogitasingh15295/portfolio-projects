{
  "nbformat": 4,
  "nbformat_minor": 0,
  "metadata": {
    "colab": {
      "name": "movie_recommendation_using-ML",
      "provenance": []
    },
    "kernelspec": {
      "name": "python3",
      "display_name": "Python 3"
    },
    "widgets": {
      "application/vnd.jupyter.widget-state+json": {
        "2d30fe46083f4bee8db4b25360d2f731": {
          "model_module": "@jupyter-widgets/controls",
          "model_name": "DropdownModel",
          "state": {
            "_options_labels": [
              "Batman (1989)",
              "Batman Begins (2005)",
              "Watchmen (2009)",
              "Batman & Robin (1997)",
              "Batman Forever (1995)",
              "Batman Returns (1992)",
              "Manhattan (1979)",
              "What Women Want (2000)",
              "The Martian (2015)",
              "Brokeback Mountain (2005)"
            ],
            "_view_name": "DropdownView",
            "style": "IPY_MODEL_0b49d97ddb5d45c0bd7c11d93023b7d6",
            "_dom_classes": [],
            "description": "",
            "_model_name": "DropdownModel",
            "index": 0,
            "_view_module": "@jupyter-widgets/controls",
            "_model_module_version": "1.5.0",
            "_view_count": null,
            "disabled": false,
            "_view_module_version": "1.5.0",
            "description_tooltip": null,
            "_model_module": "@jupyter-widgets/controls",
            "layout": "IPY_MODEL_9fdc25ca8b4748fab4cc1454ec2ee27d"
          }
        },
        "0b49d97ddb5d45c0bd7c11d93023b7d6": {
          "model_module": "@jupyter-widgets/controls",
          "model_name": "DescriptionStyleModel",
          "state": {
            "_view_name": "StyleView",
            "_model_name": "DescriptionStyleModel",
            "description_width": "",
            "_view_module": "@jupyter-widgets/base",
            "_model_module_version": "1.5.0",
            "_view_count": null,
            "_view_module_version": "1.2.0",
            "_model_module": "@jupyter-widgets/controls"
          }
        },
        "9fdc25ca8b4748fab4cc1454ec2ee27d": {
          "model_module": "@jupyter-widgets/base",
          "model_name": "LayoutModel",
          "state": {
            "_view_name": "LayoutView",
            "grid_template_rows": null,
            "right": null,
            "justify_content": null,
            "_view_module": "@jupyter-widgets/base",
            "overflow": null,
            "_model_module_version": "1.2.0",
            "_view_count": null,
            "flex_flow": null,
            "width": null,
            "min_width": null,
            "border": null,
            "align_items": null,
            "bottom": null,
            "_model_module": "@jupyter-widgets/base",
            "top": null,
            "grid_column": null,
            "overflow_y": null,
            "overflow_x": null,
            "grid_auto_flow": null,
            "grid_area": null,
            "grid_template_columns": null,
            "flex": null,
            "_model_name": "LayoutModel",
            "justify_items": null,
            "grid_row": null,
            "max_height": null,
            "align_content": null,
            "visibility": null,
            "align_self": null,
            "height": null,
            "min_height": null,
            "padding": null,
            "grid_auto_rows": null,
            "grid_gap": null,
            "max_width": null,
            "order": null,
            "_view_module_version": "1.2.0",
            "grid_template_areas": null,
            "object_position": null,
            "object_fit": null,
            "grid_auto_columns": null,
            "margin": null,
            "display": null,
            "left": null
          }
        }
      }
    }
  },
  "cells": [
    {
      "cell_type": "code",
      "metadata": {
        "id": "rFchsuu_oQgv"
      },
      "source": [
        "import re\r\n",
        "from difflib import SequenceMatcher\r\n",
        "import numpy as np\r\n",
        "import pandas as pd\r\n",
        "import matplotlib.pyplot as plt\r\n",
        "from scipy.sparse import csr_matrix\r\n",
        "from sklearn.neighbors import NearestNeighbors"
      ],
      "execution_count": 5,
      "outputs": []
    },
    {
      "cell_type": "code",
      "metadata": {
        "id": "_tlK1mhgRgl8",
        "colab": {
          "base_uri": "https://localhost:8080/"
        },
        "outputId": "eeea8d0a-6ec6-496f-d90d-38f9609541c3"
      },
      "source": [
        "from google.colab import drive\n",
        "drive.mount('/content/gdrive')"
      ],
      "execution_count": 6,
      "outputs": [
        {
          "output_type": "stream",
          "text": [
            "Drive already mounted at /content/gdrive; to attempt to forcibly remount, call drive.mount(\"/content/gdrive\", force_remount=True).\n"
          ],
          "name": "stdout"
        }
      ]
    },
    {
      "cell_type": "code",
      "metadata": {
        "id": "Rx4xVESMqqKn"
      },
      "source": [
        "movies=pd.read_csv('/content/gdrive/MyDrive/movie-recommendation-dataset/movies.csv')\r\n",
        "movies=movies.drop(['genres'],axis='columns')"
      ],
      "execution_count": 7,
      "outputs": []
    },
    {
      "cell_type": "code",
      "metadata": {
        "id": "ddMrQP0wubgY"
      },
      "source": [
        "ratings=pd.read_csv('/content/gdrive/MyDrive/movie-recommendation-dataset/ratings.csv')\r\n",
        "ratings=ratings.drop(['timestamp'],axis='columns')"
      ],
      "execution_count": 8,
      "outputs": []
    },
    {
      "cell_type": "code",
      "metadata": {
        "colab": {
          "base_uri": "https://localhost:8080/",
          "height": 204
        },
        "id": "CGDpUlf3u1EJ",
        "outputId": "1e2f7869-204f-44c0-c670-b3d645120c68"
      },
      "source": [
        "movies.head()"
      ],
      "execution_count": 9,
      "outputs": [
        {
          "output_type": "execute_result",
          "data": {
            "text/html": [
              "<div>\n",
              "<style scoped>\n",
              "    .dataframe tbody tr th:only-of-type {\n",
              "        vertical-align: middle;\n",
              "    }\n",
              "\n",
              "    .dataframe tbody tr th {\n",
              "        vertical-align: top;\n",
              "    }\n",
              "\n",
              "    .dataframe thead th {\n",
              "        text-align: right;\n",
              "    }\n",
              "</style>\n",
              "<table border=\"1\" class=\"dataframe\">\n",
              "  <thead>\n",
              "    <tr style=\"text-align: right;\">\n",
              "      <th></th>\n",
              "      <th>movieId</th>\n",
              "      <th>title</th>\n",
              "    </tr>\n",
              "  </thead>\n",
              "  <tbody>\n",
              "    <tr>\n",
              "      <th>0</th>\n",
              "      <td>1</td>\n",
              "      <td>Toy Story (1995)</td>\n",
              "    </tr>\n",
              "    <tr>\n",
              "      <th>1</th>\n",
              "      <td>2</td>\n",
              "      <td>Jumanji (1995)</td>\n",
              "    </tr>\n",
              "    <tr>\n",
              "      <th>2</th>\n",
              "      <td>3</td>\n",
              "      <td>Grumpier Old Men (1995)</td>\n",
              "    </tr>\n",
              "    <tr>\n",
              "      <th>3</th>\n",
              "      <td>4</td>\n",
              "      <td>Waiting to Exhale (1995)</td>\n",
              "    </tr>\n",
              "    <tr>\n",
              "      <th>4</th>\n",
              "      <td>5</td>\n",
              "      <td>Father of the Bride Part II (1995)</td>\n",
              "    </tr>\n",
              "  </tbody>\n",
              "</table>\n",
              "</div>"
            ],
            "text/plain": [
              "   movieId                               title\n",
              "0        1                    Toy Story (1995)\n",
              "1        2                      Jumanji (1995)\n",
              "2        3             Grumpier Old Men (1995)\n",
              "3        4            Waiting to Exhale (1995)\n",
              "4        5  Father of the Bride Part II (1995)"
            ]
          },
          "metadata": {
            "tags": []
          },
          "execution_count": 9
        }
      ]
    },
    {
      "cell_type": "code",
      "metadata": {
        "colab": {
          "base_uri": "https://localhost:8080/",
          "height": 204
        },
        "id": "ZvhjzVmeu356",
        "outputId": "d11016b8-d9a2-41fe-dd4f-5dd965bd0d39"
      },
      "source": [
        "ratings.head()"
      ],
      "execution_count": 10,
      "outputs": [
        {
          "output_type": "execute_result",
          "data": {
            "text/html": [
              "<div>\n",
              "<style scoped>\n",
              "    .dataframe tbody tr th:only-of-type {\n",
              "        vertical-align: middle;\n",
              "    }\n",
              "\n",
              "    .dataframe tbody tr th {\n",
              "        vertical-align: top;\n",
              "    }\n",
              "\n",
              "    .dataframe thead th {\n",
              "        text-align: right;\n",
              "    }\n",
              "</style>\n",
              "<table border=\"1\" class=\"dataframe\">\n",
              "  <thead>\n",
              "    <tr style=\"text-align: right;\">\n",
              "      <th></th>\n",
              "      <th>userId</th>\n",
              "      <th>movieId</th>\n",
              "      <th>rating</th>\n",
              "    </tr>\n",
              "  </thead>\n",
              "  <tbody>\n",
              "    <tr>\n",
              "      <th>0</th>\n",
              "      <td>1</td>\n",
              "      <td>1</td>\n",
              "      <td>4.0</td>\n",
              "    </tr>\n",
              "    <tr>\n",
              "      <th>1</th>\n",
              "      <td>1</td>\n",
              "      <td>3</td>\n",
              "      <td>4.0</td>\n",
              "    </tr>\n",
              "    <tr>\n",
              "      <th>2</th>\n",
              "      <td>1</td>\n",
              "      <td>6</td>\n",
              "      <td>4.0</td>\n",
              "    </tr>\n",
              "    <tr>\n",
              "      <th>3</th>\n",
              "      <td>1</td>\n",
              "      <td>47</td>\n",
              "      <td>5.0</td>\n",
              "    </tr>\n",
              "    <tr>\n",
              "      <th>4</th>\n",
              "      <td>1</td>\n",
              "      <td>50</td>\n",
              "      <td>5.0</td>\n",
              "    </tr>\n",
              "  </tbody>\n",
              "</table>\n",
              "</div>"
            ],
            "text/plain": [
              "   userId  movieId  rating\n",
              "0       1        1     4.0\n",
              "1       1        3     4.0\n",
              "2       1        6     4.0\n",
              "3       1       47     5.0\n",
              "4       1       50     5.0"
            ]
          },
          "metadata": {
            "tags": []
          },
          "execution_count": 10
        }
      ]
    },
    {
      "cell_type": "code",
      "metadata": {
        "colab": {
          "base_uri": "https://localhost:8080/"
        },
        "id": "tt4vOu--u6zG",
        "outputId": "019d0faf-fe87-4e21-994b-8053a7c2c8e9"
      },
      "source": [
        "ratings['rating'].sort_values().unique()"
      ],
      "execution_count": 11,
      "outputs": [
        {
          "output_type": "execute_result",
          "data": {
            "text/plain": [
              "array([0.5, 1. , 1.5, 2. , 2.5, 3. , 3.5, 4. , 4.5, 5. ])"
            ]
          },
          "metadata": {
            "tags": []
          },
          "execution_count": 11
        }
      ]
    },
    {
      "cell_type": "code",
      "metadata": {
        "colab": {
          "base_uri": "https://localhost:8080/"
        },
        "id": "CR0_6LwhvSS0",
        "outputId": "2fb8ad3a-e687-4df4-80ff-87f4f4e964cd"
      },
      "source": [
        "movies.values.shape[0]"
      ],
      "execution_count": 12,
      "outputs": [
        {
          "output_type": "execute_result",
          "data": {
            "text/plain": [
              "9742"
            ]
          },
          "metadata": {
            "tags": []
          },
          "execution_count": 12
        }
      ]
    },
    {
      "cell_type": "code",
      "metadata": {
        "colab": {
          "base_uri": "https://localhost:8080/"
        },
        "id": "yv79joj7vZKu",
        "outputId": "a1f38078-487e-4e88-8f9f-295d55ce7b21"
      },
      "source": [
        "ratings.values.shape[0]"
      ],
      "execution_count": 13,
      "outputs": [
        {
          "output_type": "execute_result",
          "data": {
            "text/plain": [
              "100836"
            ]
          },
          "metadata": {
            "tags": []
          },
          "execution_count": 13
        }
      ]
    },
    {
      "cell_type": "code",
      "metadata": {
        "colab": {
          "base_uri": "https://localhost:8080/"
        },
        "id": "RNJmx6h6vWuh",
        "outputId": "3f440003-a3d2-482d-8678-bf805916b707"
      },
      "source": [
        "ratings['userId'].nunique()"
      ],
      "execution_count": 14,
      "outputs": [
        {
          "output_type": "execute_result",
          "data": {
            "text/plain": [
              "610"
            ]
          },
          "metadata": {
            "tags": []
          },
          "execution_count": 14
        }
      ]
    },
    {
      "cell_type": "markdown",
      "metadata": {
        "id": "2bGD4zZwzton"
      },
      "source": [
        "# **Data preprocessing and visualization**"
      ]
    },
    {
      "cell_type": "markdown",
      "metadata": {
        "id": "KghJOogBz6aI"
      },
      "source": [
        "The long tail property"
      ]
    },
    {
      "cell_type": "markdown",
      "metadata": {
        "id": "qa32laJ10Se5"
      },
      "source": [
        "A general trend observed and buisness is that a small perscentage of entitiles are highly popular and the rest are not popular"
      ]
    },
    {
      "cell_type": "markdown",
      "metadata": {
        "id": "TBWXN6cW0rKN"
      },
      "source": [
        "### **set threshold for popular movies and active users**"
      ]
    },
    {
      "cell_type": "code",
      "metadata": {
        "id": "SBwhc2NDzmPa"
      },
      "source": [
        "popular_movies_thresh=25\r\n",
        "active_users_thresh=100"
      ],
      "execution_count": 15,
      "outputs": []
    },
    {
      "cell_type": "markdown",
      "metadata": {
        "id": "uqYoQ_U-1CSd"
      },
      "source": [
        "### **Vizualise the long-tail property for popurlar movies**"
      ]
    },
    {
      "cell_type": "code",
      "metadata": {
        "colab": {
          "base_uri": "https://localhost:8080/",
          "height": 0
        },
        "id": "RIuQS42C1PdT",
        "outputId": "ef2ccb8a-9adb-4bbd-b866-c8f3b0f5217c"
      },
      "source": [
        "movies_count = pd.DataFrame(ratings.groupby('movieId').size().sort_values(ascending=False), columns=['count'])\r\n",
        "divider = len(movies_count.query('count >= @popular_movies_thresh'))\r\n",
        "fig, (ax) = plt.subplots(1, 1, figsize=(15,5))\r\n",
        "plt.plot(np.arange(len(movies_count)),movies_count['count'], color='red')\r\n",
        "plt.xlabel('Movies')\r\n",
        "plt.ylabel('Number of ratings')\r\n",
        "\r\n",
        "ax.fill_between(np.arange(0,divider),\r\n",
        "                0,\r\n",
        "                movies_count['count'][:divider],\r\n",
        "                color='orange',\r\n",
        "                alpha=0.5)\r\n",
        "ax.fill_between(np.arange(divider, len(movies_count)),\r\n",
        "                0,\r\n",
        "                movies_count['count'][divider:],\r\n",
        "                color='blue',\r\n",
        "                alpha=0.5)"
      ],
      "execution_count": 16,
      "outputs": [
        {
          "output_type": "execute_result",
          "data": {
            "text/plain": [
              "<matplotlib.collections.PolyCollection at 0x7ff57c1cc990>"
            ]
          },
          "metadata": {
            "tags": []
          },
          "execution_count": 16
        },
        {
          "output_type": "display_data",
          "data": {
            "image/png": "[encoded data removed]",
            "text/plain": [
              "<Figure size 1080x360 with 1 Axes>"
            ]
          },
          "metadata": {
            "tags": [],
            "needs_background": "light"
          }
        }
      ]
    },
    {
      "cell_type": "markdown",
      "metadata": {
        "id": "0uUNZuSI6eIw"
      },
      "source": [
        "### Remove unpopular movies frm data"
      ]
    },
    {
      "cell_type": "code",
      "metadata": {
        "id": "H3EAkx97vopI"
      },
      "source": [
        "popular_movies_indices=movies_count.query('count >= @popular_movies_thresh').index\r\n",
        "popular_ratings = ratings[ratings['movieId'].isin(popular_movies_indices)]"
      ],
      "execution_count": 17,
      "outputs": []
    },
    {
      "cell_type": "markdown",
      "metadata": {
        "id": "zYPXWygh6ruj"
      },
      "source": [
        "**Number of rows in original ratings data**"
      ]
    },
    {
      "cell_type": "code",
      "metadata": {
        "colab": {
          "base_uri": "https://localhost:8080/"
        },
        "id": "_5XbuGIN6tK3",
        "outputId": "43e50834-7d24-40fc-d179-6bfaa692d13b"
      },
      "source": [
        "ratings.shape[0]"
      ],
      "execution_count": 18,
      "outputs": [
        {
          "output_type": "execute_result",
          "data": {
            "text/plain": [
              "100836"
            ]
          },
          "metadata": {
            "tags": []
          },
          "execution_count": 18
        }
      ]
    },
    {
      "cell_type": "markdown",
      "metadata": {
        "id": "LBtgbYIT7h2t"
      },
      "source": [
        "**Number of rows in rating data after dropping unpopular movies**"
      ]
    },
    {
      "cell_type": "code",
      "metadata": {
        "colab": {
          "base_uri": "https://localhost:8080/"
        },
        "id": "4nQmrF5FzDUG",
        "outputId": "9b72a77e-c7f1-4cf3-a297-2a309a2f2d60"
      },
      "source": [
        "popular_ratings.shape[0]"
      ],
      "execution_count": 19,
      "outputs": [
        {
          "output_type": "execute_result",
          "data": {
            "text/plain": [
              "62518"
            ]
          },
          "metadata": {
            "tags": []
          },
          "execution_count": 19
        }
      ]
    },
    {
      "cell_type": "markdown",
      "metadata": {
        "id": "x4YWTVhg7_pR"
      },
      "source": [
        " **Number of movies before dropping unpopular movies**\r\n"
      ]
    },
    {
      "cell_type": "code",
      "metadata": {
        "colab": {
          "base_uri": "https://localhost:8080/"
        },
        "id": "I2hbdTgi791W",
        "outputId": "fe09af78-869f-42b9-e299-d038b768e592"
      },
      "source": [
        "ratings.groupby('movieId').count().shape[0]"
      ],
      "execution_count": 20,
      "outputs": [
        {
          "output_type": "execute_result",
          "data": {
            "text/plain": [
              "9724"
            ]
          },
          "metadata": {
            "tags": []
          },
          "execution_count": 20
        }
      ]
    },
    {
      "cell_type": "markdown",
      "metadata": {
        "id": "cm0c1nM58plh"
      },
      "source": [
        "**Number of movies after dropping unpopular movies**"
      ]
    },
    {
      "cell_type": "code",
      "metadata": {
        "colab": {
          "base_uri": "https://localhost:8080/"
        },
        "id": "z0HZWuDk8mUL",
        "outputId": "1be87b2a-2b47-4d98-fb83-6d7a0d773a8e"
      },
      "source": [
        "popular_ratings.groupby('movieId').count().shape[0]"
      ],
      "execution_count": 21,
      "outputs": [
        {
          "output_type": "execute_result",
          "data": {
            "text/plain": [
              "1050"
            ]
          },
          "metadata": {
            "tags": []
          },
          "execution_count": 21
        }
      ]
    },
    {
      "cell_type": "markdown",
      "metadata": {
        "id": "h4PIGwuU9P9D"
      },
      "source": [
        "## Vizualise the long-tail property for active users"
      ]
    },
    {
      "cell_type": "code",
      "metadata": {
        "colab": {
          "base_uri": "https://localhost:8080/",
          "height": 351
        },
        "id": "p2Wjj3D_9Btj",
        "outputId": "a26c935c-b6c6-4599-ba1f-79ef193ae89e"
      },
      "source": [
        "users_count = pd.DataFrame(popular_ratings.groupby('userId').size().sort_values(ascending=False), columns=['count'])\r\n",
        "divider = len(users_count.query('count >= @active_users_thresh'))\r\n",
        "fig, (ax) = plt.subplots(1, 1, figsize=(15,5))\r\n",
        "plt.plot(np.arange(len(users_count)),users_count['count'], color='r')\r\n",
        "plt.xlabel('Users')\r\n",
        "plt.ylabel('Number of ratings')\r\n",
        "\r\n",
        "ax.fill_between(np.arange(0,divider),\r\n",
        "                0,\r\n",
        "                users_count['count'][:divider],\r\n",
        "                color='orange',\r\n",
        "                alpha=0.5)\r\n",
        "ax.fill_between(np.arange(divider, len(users_count)),\r\n",
        "                0,\r\n",
        "                users_count['count'][divider:],\r\n",
        "                color='blue',\r\n",
        "                alpha=0.5)"
      ],
      "execution_count": 22,
      "outputs": [
        {
          "output_type": "execute_result",
          "data": {
            "text/plain": [
              "<matplotlib.collections.PolyCollection at 0x7ff57a902dd0>"
            ]
          },
          "metadata": {
            "tags": []
          },
          "execution_count": 22
        },
        {
          "output_type": "display_data",
          "data": {
            "image/png": "[encoded data removed]",
            "text/plain": [
              "<Figure size 1080x360 with 1 Axes>"
            ]
          },
          "metadata": {
            "tags": [],
            "needs_background": "light"
          }
        }
      ]
    },
    {
      "cell_type": "markdown",
      "metadata": {
        "id": "Eg6KKG4g-XHp"
      },
      "source": [
        "## Remove non-active users frm data"
      ]
    },
    {
      "cell_type": "code",
      "metadata": {
        "id": "AR21dx-O-dlP"
      },
      "source": [
        "active_users_indices=users_count.query('count >= @active_users_thresh').index\r\n",
        "active_users_ratings =popular_ratings[popular_ratings['userId'].isin(active_users_indices)]"
      ],
      "execution_count": 23,
      "outputs": []
    },
    {
      "cell_type": "markdown",
      "metadata": {
        "id": "gheR9Xuj_3Wu"
      },
      "source": [
        " **Number of rows in rating data after removing unpopular movies**"
      ]
    },
    {
      "cell_type": "code",
      "metadata": {
        "colab": {
          "base_uri": "https://localhost:8080/"
        },
        "id": "N5bja06Z-Qdv",
        "outputId": "8d904eed-7997-4383-e725-919896e8b1a8"
      },
      "source": [
        "popular_ratings.shape[0]"
      ],
      "execution_count": 24,
      "outputs": [
        {
          "output_type": "execute_result",
          "data": {
            "text/plain": [
              "62518"
            ]
          },
          "metadata": {
            "tags": []
          },
          "execution_count": 24
        }
      ]
    },
    {
      "cell_type": "markdown",
      "metadata": {
        "id": "3TMYbs0qAHFR"
      },
      "source": [
        " **Number of rows in rating data after removing unpopular movies and active users**"
      ]
    },
    {
      "cell_type": "code",
      "metadata": {
        "colab": {
          "base_uri": "https://localhost:8080/"
        },
        "id": "nCsYXMwQ_yaz",
        "outputId": "b4bbccb8-195e-433a-ff8f-eb6e00cea2ca"
      },
      "source": [
        "active_users_ratings.shape[0]"
      ],
      "execution_count": 25,
      "outputs": [
        {
          "output_type": "execute_result",
          "data": {
            "text/plain": [
              "44588"
            ]
          },
          "metadata": {
            "tags": []
          },
          "execution_count": 25
        }
      ]
    },
    {
      "cell_type": "markdown",
      "metadata": {
        "id": "D8FHuhxUAUi-"
      },
      "source": [
        " **Number of users before removing inactive users**"
      ]
    },
    {
      "cell_type": "code",
      "metadata": {
        "colab": {
          "base_uri": "https://localhost:8080/"
        },
        "id": "0lH4p3Qg_2CH",
        "outputId": "09c6fb84-12c9-4d13-b5ba-f1a77aea4427"
      },
      "source": [
        "popular_ratings.groupby('userId').count().shape[0]"
      ],
      "execution_count": 26,
      "outputs": [
        {
          "output_type": "execute_result",
          "data": {
            "text/plain": [
              "610"
            ]
          },
          "metadata": {
            "tags": []
          },
          "execution_count": 26
        }
      ]
    },
    {
      "cell_type": "markdown",
      "metadata": {
        "id": "PGnr4Cm-A5eI"
      },
      "source": [
        " **Number of users after removing inactive users and unpopular movies**"
      ]
    },
    {
      "cell_type": "code",
      "metadata": {
        "colab": {
          "base_uri": "https://localhost:8080/"
        },
        "id": "2Thl6eevAswe",
        "outputId": "84056b24-a1fb-4358-9bc9-d68d7745d668"
      },
      "source": [
        "active_users_ratings.groupby('userId').count().shape[0]"
      ],
      "execution_count": 27,
      "outputs": [
        {
          "output_type": "execute_result",
          "data": {
            "text/plain": [
              "188"
            ]
          },
          "metadata": {
            "tags": []
          },
          "execution_count": 27
        }
      ]
    },
    {
      "cell_type": "markdown",
      "metadata": {
        "id": "FkCfEgpWBiTT"
      },
      "source": [
        " **create a pivot table of rows containing movie id and columns containing userid .The cells in the tabel will contain the rating given by the user to the movie**"
      ]
    },
    {
      "cell_type": "code",
      "metadata": {
        "id": "Md4jlS7JBhw_"
      },
      "source": [
        "pivot_table = active_users_ratings.pivot(index='movieId', columns='userId', values='rating').fillna(0)"
      ],
      "execution_count": 28,
      "outputs": []
    },
    {
      "cell_type": "markdown",
      "metadata": {
        "id": "J6B4I88GCuE4"
      },
      "source": [
        " **Number of movies in the pivot table**"
      ]
    },
    {
      "cell_type": "code",
      "metadata": {
        "colab": {
          "base_uri": "https://localhost:8080/"
        },
        "id": "t9FbOolkBKR4",
        "outputId": "4401acd4-196e-4fc0-bb09-a8b42803ab77"
      },
      "source": [
        "pivot_table.index.shape[0]"
      ],
      "execution_count": 29,
      "outputs": [
        {
          "output_type": "execute_result",
          "data": {
            "text/plain": [
              "1050"
            ]
          },
          "metadata": {
            "tags": []
          },
          "execution_count": 29
        }
      ]
    },
    {
      "cell_type": "markdown",
      "metadata": {
        "id": "9SePpt8FDJk1"
      },
      "source": [
        " **Number of users in the pivot table**"
      ]
    },
    {
      "cell_type": "code",
      "metadata": {
        "colab": {
          "base_uri": "https://localhost:8080/"
        },
        "id": "z4Wbu2oVDAjB",
        "outputId": "6e703ab7-52a2-41da-89fe-8b8d445ba695"
      },
      "source": [
        "pivot_table.columns.shape[0]"
      ],
      "execution_count": 30,
      "outputs": [
        {
          "output_type": "execute_result",
          "data": {
            "text/plain": [
              "188"
            ]
          },
          "metadata": {
            "tags": []
          },
          "execution_count": 30
        }
      ]
    },
    {
      "cell_type": "code",
      "metadata": {
        "colab": {
          "base_uri": "https://localhost:8080/",
          "height": 284
        },
        "id": "z1YIh0-NDFnz",
        "outputId": "3d2c6580-a7a1-4fda-a922-2dc1b04ae246"
      },
      "source": [
        "pivot_table.head()"
      ],
      "execution_count": 31,
      "outputs": [
        {
          "output_type": "execute_result",
          "data": {
            "text/html": [
              "<div>\n",
              "<style scoped>\n",
              "    .dataframe tbody tr th:only-of-type {\n",
              "        vertical-align: middle;\n",
              "    }\n",
              "\n",
              "    .dataframe tbody tr th {\n",
              "        vertical-align: top;\n",
              "    }\n",
              "\n",
              "    .dataframe thead th {\n",
              "        text-align: right;\n",
              "    }\n",
              "</style>\n",
              "<table border=\"1\" class=\"dataframe\">\n",
              "  <thead>\n",
              "    <tr style=\"text-align: right;\">\n",
              "      <th>userId</th>\n",
              "      <th>1</th>\n",
              "      <th>4</th>\n",
              "      <th>6</th>\n",
              "      <th>7</th>\n",
              "      <th>15</th>\n",
              "      <th>18</th>\n",
              "      <th>19</th>\n",
              "      <th>20</th>\n",
              "      <th>21</th>\n",
              "      <th>22</th>\n",
              "      <th>28</th>\n",
              "      <th>41</th>\n",
              "      <th>42</th>\n",
              "      <th>45</th>\n",
              "      <th>50</th>\n",
              "      <th>51</th>\n",
              "      <th>57</th>\n",
              "      <th>62</th>\n",
              "      <th>63</th>\n",
              "      <th>64</th>\n",
              "      <th>66</th>\n",
              "      <th>68</th>\n",
              "      <th>73</th>\n",
              "      <th>76</th>\n",
              "      <th>80</th>\n",
              "      <th>82</th>\n",
              "      <th>84</th>\n",
              "      <th>89</th>\n",
              "      <th>91</th>\n",
              "      <th>95</th>\n",
              "      <th>100</th>\n",
              "      <th>103</th>\n",
              "      <th>104</th>\n",
              "      <th>105</th>\n",
              "      <th>111</th>\n",
              "      <th>117</th>\n",
              "      <th>119</th>\n",
              "      <th>122</th>\n",
              "      <th>125</th>\n",
              "      <th>129</th>\n",
              "      <th>...</th>\n",
              "      <th>489</th>\n",
              "      <th>495</th>\n",
              "      <th>509</th>\n",
              "      <th>514</th>\n",
              "      <th>517</th>\n",
              "      <th>520</th>\n",
              "      <th>522</th>\n",
              "      <th>524</th>\n",
              "      <th>525</th>\n",
              "      <th>527</th>\n",
              "      <th>534</th>\n",
              "      <th>542</th>\n",
              "      <th>551</th>\n",
              "      <th>552</th>\n",
              "      <th>555</th>\n",
              "      <th>559</th>\n",
              "      <th>560</th>\n",
              "      <th>561</th>\n",
              "      <th>562</th>\n",
              "      <th>567</th>\n",
              "      <th>570</th>\n",
              "      <th>572</th>\n",
              "      <th>573</th>\n",
              "      <th>577</th>\n",
              "      <th>580</th>\n",
              "      <th>586</th>\n",
              "      <th>587</th>\n",
              "      <th>590</th>\n",
              "      <th>594</th>\n",
              "      <th>596</th>\n",
              "      <th>597</th>\n",
              "      <th>599</th>\n",
              "      <th>600</th>\n",
              "      <th>602</th>\n",
              "      <th>603</th>\n",
              "      <th>605</th>\n",
              "      <th>606</th>\n",
              "      <th>607</th>\n",
              "      <th>608</th>\n",
              "      <th>610</th>\n",
              "    </tr>\n",
              "    <tr>\n",
              "      <th>movieId</th>\n",
              "      <th></th>\n",
              "      <th></th>\n",
              "      <th></th>\n",
              "      <th></th>\n",
              "      <th></th>\n",
              "      <th></th>\n",
              "      <th></th>\n",
              "      <th></th>\n",
              "      <th></th>\n",
              "      <th></th>\n",
              "      <th></th>\n",
              "      <th></th>\n",
              "      <th></th>\n",
              "      <th></th>\n",
              "      <th></th>\n",
              "      <th></th>\n",
              "      <th></th>\n",
              "      <th></th>\n",
              "      <th></th>\n",
              "      <th></th>\n",
              "      <th></th>\n",
              "      <th></th>\n",
              "      <th></th>\n",
              "      <th></th>\n",
              "      <th></th>\n",
              "      <th></th>\n",
              "      <th></th>\n",
              "      <th></th>\n",
              "      <th></th>\n",
              "      <th></th>\n",
              "      <th></th>\n",
              "      <th></th>\n",
              "      <th></th>\n",
              "      <th></th>\n",
              "      <th></th>\n",
              "      <th></th>\n",
              "      <th></th>\n",
              "      <th></th>\n",
              "      <th></th>\n",
              "      <th></th>\n",
              "      <th></th>\n",
              "      <th></th>\n",
              "      <th></th>\n",
              "      <th></th>\n",
              "      <th></th>\n",
              "      <th></th>\n",
              "      <th></th>\n",
              "      <th></th>\n",
              "      <th></th>\n",
              "      <th></th>\n",
              "      <th></th>\n",
              "      <th></th>\n",
              "      <th></th>\n",
              "      <th></th>\n",
              "      <th></th>\n",
              "      <th></th>\n",
              "      <th></th>\n",
              "      <th></th>\n",
              "      <th></th>\n",
              "      <th></th>\n",
              "      <th></th>\n",
              "      <th></th>\n",
              "      <th></th>\n",
              "      <th></th>\n",
              "      <th></th>\n",
              "      <th></th>\n",
              "      <th></th>\n",
              "      <th></th>\n",
              "      <th></th>\n",
              "      <th></th>\n",
              "      <th></th>\n",
              "      <th></th>\n",
              "      <th></th>\n",
              "      <th></th>\n",
              "      <th></th>\n",
              "      <th></th>\n",
              "      <th></th>\n",
              "      <th></th>\n",
              "      <th></th>\n",
              "      <th></th>\n",
              "      <th></th>\n",
              "    </tr>\n",
              "  </thead>\n",
              "  <tbody>\n",
              "    <tr>\n",
              "      <th>1</th>\n",
              "      <td>4.0</td>\n",
              "      <td>0.0</td>\n",
              "      <td>0.0</td>\n",
              "      <td>4.5</td>\n",
              "      <td>2.5</td>\n",
              "      <td>3.5</td>\n",
              "      <td>4.0</td>\n",
              "      <td>0.0</td>\n",
              "      <td>3.5</td>\n",
              "      <td>0.0</td>\n",
              "      <td>0.0</td>\n",
              "      <td>0.0</td>\n",
              "      <td>0.0</td>\n",
              "      <td>4.0</td>\n",
              "      <td>3.0</td>\n",
              "      <td>0.0</td>\n",
              "      <td>5.0</td>\n",
              "      <td>0.0</td>\n",
              "      <td>5.0</td>\n",
              "      <td>4.0</td>\n",
              "      <td>4.0</td>\n",
              "      <td>2.5</td>\n",
              "      <td>4.5</td>\n",
              "      <td>0.5</td>\n",
              "      <td>0.0</td>\n",
              "      <td>2.5</td>\n",
              "      <td>0.0</td>\n",
              "      <td>3.0</td>\n",
              "      <td>4.0</td>\n",
              "      <td>0.0</td>\n",
              "      <td>0.0</td>\n",
              "      <td>4.0</td>\n",
              "      <td>0.0</td>\n",
              "      <td>0.0</td>\n",
              "      <td>0.0</td>\n",
              "      <td>0.0</td>\n",
              "      <td>3.5</td>\n",
              "      <td>0.0</td>\n",
              "      <td>0.0</td>\n",
              "      <td>0.0</td>\n",
              "      <td>...</td>\n",
              "      <td>0.0</td>\n",
              "      <td>0.0</td>\n",
              "      <td>4.0</td>\n",
              "      <td>4.0</td>\n",
              "      <td>4.0</td>\n",
              "      <td>0.0</td>\n",
              "      <td>3.0</td>\n",
              "      <td>4.0</td>\n",
              "      <td>4.0</td>\n",
              "      <td>0.0</td>\n",
              "      <td>4.0</td>\n",
              "      <td>0.0</td>\n",
              "      <td>0.0</td>\n",
              "      <td>0.0</td>\n",
              "      <td>4.0</td>\n",
              "      <td>5.0</td>\n",
              "      <td>3.0</td>\n",
              "      <td>4.0</td>\n",
              "      <td>4.5</td>\n",
              "      <td>3.5</td>\n",
              "      <td>4.0</td>\n",
              "      <td>4.0</td>\n",
              "      <td>5.0</td>\n",
              "      <td>0.0</td>\n",
              "      <td>3.0</td>\n",
              "      <td>0.0</td>\n",
              "      <td>5.0</td>\n",
              "      <td>4.0</td>\n",
              "      <td>0.0</td>\n",
              "      <td>4.0</td>\n",
              "      <td>4.0</td>\n",
              "      <td>3.0</td>\n",
              "      <td>2.5</td>\n",
              "      <td>0.0</td>\n",
              "      <td>4.0</td>\n",
              "      <td>4.0</td>\n",
              "      <td>2.5</td>\n",
              "      <td>4.0</td>\n",
              "      <td>2.5</td>\n",
              "      <td>5.0</td>\n",
              "    </tr>\n",
              "    <tr>\n",
              "      <th>2</th>\n",
              "      <td>0.0</td>\n",
              "      <td>0.0</td>\n",
              "      <td>4.0</td>\n",
              "      <td>0.0</td>\n",
              "      <td>0.0</td>\n",
              "      <td>3.0</td>\n",
              "      <td>3.0</td>\n",
              "      <td>3.0</td>\n",
              "      <td>3.5</td>\n",
              "      <td>0.0</td>\n",
              "      <td>0.0</td>\n",
              "      <td>0.0</td>\n",
              "      <td>0.0</td>\n",
              "      <td>0.0</td>\n",
              "      <td>0.0</td>\n",
              "      <td>4.5</td>\n",
              "      <td>0.0</td>\n",
              "      <td>4.0</td>\n",
              "      <td>0.0</td>\n",
              "      <td>0.0</td>\n",
              "      <td>0.0</td>\n",
              "      <td>2.5</td>\n",
              "      <td>0.0</td>\n",
              "      <td>0.0</td>\n",
              "      <td>0.0</td>\n",
              "      <td>3.0</td>\n",
              "      <td>0.0</td>\n",
              "      <td>0.0</td>\n",
              "      <td>3.0</td>\n",
              "      <td>0.0</td>\n",
              "      <td>0.0</td>\n",
              "      <td>4.0</td>\n",
              "      <td>3.0</td>\n",
              "      <td>0.0</td>\n",
              "      <td>0.0</td>\n",
              "      <td>3.0</td>\n",
              "      <td>0.0</td>\n",
              "      <td>4.0</td>\n",
              "      <td>4.0</td>\n",
              "      <td>0.0</td>\n",
              "      <td>...</td>\n",
              "      <td>2.5</td>\n",
              "      <td>0.0</td>\n",
              "      <td>0.0</td>\n",
              "      <td>0.0</td>\n",
              "      <td>3.0</td>\n",
              "      <td>0.0</td>\n",
              "      <td>0.0</td>\n",
              "      <td>0.0</td>\n",
              "      <td>3.5</td>\n",
              "      <td>4.0</td>\n",
              "      <td>4.5</td>\n",
              "      <td>0.0</td>\n",
              "      <td>0.0</td>\n",
              "      <td>0.0</td>\n",
              "      <td>0.0</td>\n",
              "      <td>4.0</td>\n",
              "      <td>0.0</td>\n",
              "      <td>4.0</td>\n",
              "      <td>0.0</td>\n",
              "      <td>0.0</td>\n",
              "      <td>3.5</td>\n",
              "      <td>0.0</td>\n",
              "      <td>4.5</td>\n",
              "      <td>0.0</td>\n",
              "      <td>0.0</td>\n",
              "      <td>4.0</td>\n",
              "      <td>0.0</td>\n",
              "      <td>2.5</td>\n",
              "      <td>4.0</td>\n",
              "      <td>0.0</td>\n",
              "      <td>0.0</td>\n",
              "      <td>2.5</td>\n",
              "      <td>4.0</td>\n",
              "      <td>4.0</td>\n",
              "      <td>0.0</td>\n",
              "      <td>3.5</td>\n",
              "      <td>0.0</td>\n",
              "      <td>0.0</td>\n",
              "      <td>2.0</td>\n",
              "      <td>0.0</td>\n",
              "    </tr>\n",
              "    <tr>\n",
              "      <th>3</th>\n",
              "      <td>4.0</td>\n",
              "      <td>0.0</td>\n",
              "      <td>5.0</td>\n",
              "      <td>0.0</td>\n",
              "      <td>0.0</td>\n",
              "      <td>0.0</td>\n",
              "      <td>3.0</td>\n",
              "      <td>0.0</td>\n",
              "      <td>0.0</td>\n",
              "      <td>0.0</td>\n",
              "      <td>0.0</td>\n",
              "      <td>0.0</td>\n",
              "      <td>4.0</td>\n",
              "      <td>0.0</td>\n",
              "      <td>0.0</td>\n",
              "      <td>4.0</td>\n",
              "      <td>0.0</td>\n",
              "      <td>0.0</td>\n",
              "      <td>0.0</td>\n",
              "      <td>3.5</td>\n",
              "      <td>0.0</td>\n",
              "      <td>2.0</td>\n",
              "      <td>0.0</td>\n",
              "      <td>0.0</td>\n",
              "      <td>0.0</td>\n",
              "      <td>0.0</td>\n",
              "      <td>0.0</td>\n",
              "      <td>0.0</td>\n",
              "      <td>3.0</td>\n",
              "      <td>0.0</td>\n",
              "      <td>3.5</td>\n",
              "      <td>0.0</td>\n",
              "      <td>0.0</td>\n",
              "      <td>0.0</td>\n",
              "      <td>0.0</td>\n",
              "      <td>3.0</td>\n",
              "      <td>0.0</td>\n",
              "      <td>0.0</td>\n",
              "      <td>0.0</td>\n",
              "      <td>0.0</td>\n",
              "      <td>...</td>\n",
              "      <td>0.0</td>\n",
              "      <td>0.0</td>\n",
              "      <td>0.0</td>\n",
              "      <td>0.0</td>\n",
              "      <td>0.0</td>\n",
              "      <td>0.0</td>\n",
              "      <td>0.0</td>\n",
              "      <td>0.0</td>\n",
              "      <td>0.0</td>\n",
              "      <td>0.0</td>\n",
              "      <td>0.0</td>\n",
              "      <td>0.0</td>\n",
              "      <td>0.0</td>\n",
              "      <td>1.0</td>\n",
              "      <td>5.0</td>\n",
              "      <td>0.0</td>\n",
              "      <td>0.0</td>\n",
              "      <td>0.0</td>\n",
              "      <td>0.0</td>\n",
              "      <td>0.0</td>\n",
              "      <td>0.0</td>\n",
              "      <td>0.0</td>\n",
              "      <td>0.0</td>\n",
              "      <td>0.0</td>\n",
              "      <td>0.0</td>\n",
              "      <td>0.0</td>\n",
              "      <td>0.0</td>\n",
              "      <td>3.0</td>\n",
              "      <td>4.0</td>\n",
              "      <td>0.0</td>\n",
              "      <td>0.0</td>\n",
              "      <td>1.5</td>\n",
              "      <td>0.0</td>\n",
              "      <td>0.0</td>\n",
              "      <td>0.0</td>\n",
              "      <td>0.0</td>\n",
              "      <td>0.0</td>\n",
              "      <td>0.0</td>\n",
              "      <td>2.0</td>\n",
              "      <td>0.0</td>\n",
              "    </tr>\n",
              "    <tr>\n",
              "      <th>5</th>\n",
              "      <td>0.0</td>\n",
              "      <td>0.0</td>\n",
              "      <td>5.0</td>\n",
              "      <td>0.0</td>\n",
              "      <td>0.0</td>\n",
              "      <td>0.0</td>\n",
              "      <td>0.0</td>\n",
              "      <td>0.0</td>\n",
              "      <td>0.0</td>\n",
              "      <td>0.0</td>\n",
              "      <td>0.0</td>\n",
              "      <td>0.0</td>\n",
              "      <td>0.0</td>\n",
              "      <td>3.0</td>\n",
              "      <td>0.0</td>\n",
              "      <td>0.0</td>\n",
              "      <td>0.0</td>\n",
              "      <td>0.0</td>\n",
              "      <td>0.0</td>\n",
              "      <td>0.0</td>\n",
              "      <td>4.0</td>\n",
              "      <td>2.0</td>\n",
              "      <td>0.0</td>\n",
              "      <td>0.0</td>\n",
              "      <td>0.0</td>\n",
              "      <td>0.0</td>\n",
              "      <td>3.0</td>\n",
              "      <td>0.0</td>\n",
              "      <td>0.0</td>\n",
              "      <td>0.0</td>\n",
              "      <td>0.0</td>\n",
              "      <td>4.0</td>\n",
              "      <td>0.0</td>\n",
              "      <td>0.0</td>\n",
              "      <td>3.5</td>\n",
              "      <td>3.0</td>\n",
              "      <td>0.0</td>\n",
              "      <td>0.0</td>\n",
              "      <td>0.0</td>\n",
              "      <td>0.0</td>\n",
              "      <td>...</td>\n",
              "      <td>2.0</td>\n",
              "      <td>0.0</td>\n",
              "      <td>1.5</td>\n",
              "      <td>0.0</td>\n",
              "      <td>0.0</td>\n",
              "      <td>0.0</td>\n",
              "      <td>0.0</td>\n",
              "      <td>0.0</td>\n",
              "      <td>0.0</td>\n",
              "      <td>0.0</td>\n",
              "      <td>0.0</td>\n",
              "      <td>0.0</td>\n",
              "      <td>0.0</td>\n",
              "      <td>0.0</td>\n",
              "      <td>0.0</td>\n",
              "      <td>0.0</td>\n",
              "      <td>0.0</td>\n",
              "      <td>3.0</td>\n",
              "      <td>0.0</td>\n",
              "      <td>0.0</td>\n",
              "      <td>0.0</td>\n",
              "      <td>0.0</td>\n",
              "      <td>0.0</td>\n",
              "      <td>0.0</td>\n",
              "      <td>0.0</td>\n",
              "      <td>0.0</td>\n",
              "      <td>0.0</td>\n",
              "      <td>2.0</td>\n",
              "      <td>0.0</td>\n",
              "      <td>0.0</td>\n",
              "      <td>0.0</td>\n",
              "      <td>0.0</td>\n",
              "      <td>2.5</td>\n",
              "      <td>0.0</td>\n",
              "      <td>0.0</td>\n",
              "      <td>0.0</td>\n",
              "      <td>0.0</td>\n",
              "      <td>0.0</td>\n",
              "      <td>0.0</td>\n",
              "      <td>0.0</td>\n",
              "    </tr>\n",
              "    <tr>\n",
              "      <th>6</th>\n",
              "      <td>4.0</td>\n",
              "      <td>0.0</td>\n",
              "      <td>4.0</td>\n",
              "      <td>0.0</td>\n",
              "      <td>0.0</td>\n",
              "      <td>4.0</td>\n",
              "      <td>0.0</td>\n",
              "      <td>0.0</td>\n",
              "      <td>0.0</td>\n",
              "      <td>0.0</td>\n",
              "      <td>3.5</td>\n",
              "      <td>0.0</td>\n",
              "      <td>0.0</td>\n",
              "      <td>4.0</td>\n",
              "      <td>0.0</td>\n",
              "      <td>0.0</td>\n",
              "      <td>3.0</td>\n",
              "      <td>4.5</td>\n",
              "      <td>0.0</td>\n",
              "      <td>4.5</td>\n",
              "      <td>0.0</td>\n",
              "      <td>4.0</td>\n",
              "      <td>0.0</td>\n",
              "      <td>0.0</td>\n",
              "      <td>0.0</td>\n",
              "      <td>3.5</td>\n",
              "      <td>4.0</td>\n",
              "      <td>0.0</td>\n",
              "      <td>5.0</td>\n",
              "      <td>0.0</td>\n",
              "      <td>0.0</td>\n",
              "      <td>0.0</td>\n",
              "      <td>0.0</td>\n",
              "      <td>4.0</td>\n",
              "      <td>0.0</td>\n",
              "      <td>3.0</td>\n",
              "      <td>0.0</td>\n",
              "      <td>0.0</td>\n",
              "      <td>0.0</td>\n",
              "      <td>0.0</td>\n",
              "      <td>...</td>\n",
              "      <td>0.0</td>\n",
              "      <td>0.0</td>\n",
              "      <td>0.0</td>\n",
              "      <td>0.0</td>\n",
              "      <td>0.0</td>\n",
              "      <td>0.0</td>\n",
              "      <td>0.0</td>\n",
              "      <td>4.0</td>\n",
              "      <td>0.0</td>\n",
              "      <td>0.0</td>\n",
              "      <td>0.0</td>\n",
              "      <td>0.0</td>\n",
              "      <td>0.0</td>\n",
              "      <td>0.0</td>\n",
              "      <td>0.0</td>\n",
              "      <td>5.0</td>\n",
              "      <td>0.0</td>\n",
              "      <td>4.0</td>\n",
              "      <td>0.0</td>\n",
              "      <td>0.0</td>\n",
              "      <td>0.0</td>\n",
              "      <td>0.0</td>\n",
              "      <td>4.5</td>\n",
              "      <td>4.0</td>\n",
              "      <td>4.0</td>\n",
              "      <td>0.0</td>\n",
              "      <td>0.0</td>\n",
              "      <td>3.5</td>\n",
              "      <td>0.0</td>\n",
              "      <td>0.0</td>\n",
              "      <td>3.0</td>\n",
              "      <td>4.5</td>\n",
              "      <td>0.0</td>\n",
              "      <td>3.0</td>\n",
              "      <td>4.0</td>\n",
              "      <td>0.0</td>\n",
              "      <td>0.0</td>\n",
              "      <td>0.0</td>\n",
              "      <td>0.0</td>\n",
              "      <td>5.0</td>\n",
              "    </tr>\n",
              "  </tbody>\n",
              "</table>\n",
              "<p>5 rows × 188 columns</p>\n",
              "</div>"
            ],
            "text/plain": [
              "userId   1    4    6    7    15   18   19   ...  602  603  605  606  607  608  610\n",
              "movieId                                     ...                                   \n",
              "1        4.0  0.0  0.0  4.5  2.5  3.5  4.0  ...  0.0  4.0  4.0  2.5  4.0  2.5  5.0\n",
              "2        0.0  0.0  4.0  0.0  0.0  3.0  3.0  ...  4.0  0.0  3.5  0.0  0.0  2.0  0.0\n",
              "3        4.0  0.0  5.0  0.0  0.0  0.0  3.0  ...  0.0  0.0  0.0  0.0  0.0  2.0  0.0\n",
              "5        0.0  0.0  5.0  0.0  0.0  0.0  0.0  ...  0.0  0.0  0.0  0.0  0.0  0.0  0.0\n",
              "6        4.0  0.0  4.0  0.0  0.0  4.0  0.0  ...  3.0  4.0  0.0  0.0  0.0  0.0  5.0\n",
              "\n",
              "[5 rows x 188 columns]"
            ]
          },
          "metadata": {
            "tags": []
          },
          "execution_count": 31
        }
      ]
    },
    {
      "cell_type": "markdown",
      "metadata": {
        "id": "EQWB3JBrDVCY"
      },
      "source": [
        "### **Create a sparse matrix from the pivot table**"
      ]
    },
    {
      "cell_type": "code",
      "metadata": {
        "id": "wVPG9rdZDIgH"
      },
      "source": [
        "sparse_matrix = csr_matrix(pivot_table.values)"
      ],
      "execution_count": 32,
      "outputs": []
    },
    {
      "cell_type": "markdown",
      "metadata": {
        "id": "Fqsl9CFGD7SR"
      },
      "source": [
        "## **Create dictionaries(mapping) for:**"
      ]
    },
    {
      "cell_type": "markdown",
      "metadata": {
        "id": "VjhZXMviELa4"
      },
      "source": [
        "1.movie title -> movie id\r\n",
        "\r\n",
        "2.movie id -> movie title"
      ]
    },
    {
      "cell_type": "code",
      "metadata": {
        "id": "bkZ9LSDiD1WZ"
      },
      "source": [
        "pivot_table_movies = movies.set_index('movieId').loc[pivot_table.index]['title'].values\r\n",
        "title_to_id = {movie : i for i ,movie in enumerate(pivot_table_movies)}"
      ],
      "execution_count": 33,
      "outputs": []
    },
    {
      "cell_type": "code",
      "metadata": {
        "id": "nQ6jRrL3E8yV"
      },
      "source": [
        "id_to_title = {v : k for k, v in title_to_id.items()}"
      ],
      "execution_count": 34,
      "outputs": []
    },
    {
      "cell_type": "markdown",
      "metadata": {
        "id": "CITvswFeFbue"
      },
      "source": [
        "# Train the model"
      ]
    },
    {
      "cell_type": "markdown",
      "metadata": {
        "id": "yc3okcsxGqv0"
      },
      "source": [
        " **we use k-nearest algorithm.The sparse matrix is provided as the dataset to the algorithm**"
      ]
    },
    {
      "cell_type": "markdown",
      "metadata": {
        "id": "DJJil8l9G-kM"
      },
      "source": [
        " **Cosine similarity:**\r\n",
        " cosine similarity is a measure between two non zero vectors of an inner product space that measures the cosine of the angle between them"
      ]
    },
    {
      "cell_type": "markdown",
      "metadata": {
        "id": "Hsi3lDUfHd-M"
      },
      "source": [
        " **why not Euclidian Distance**?\r\n",
        " no of columns in the data is in order of hundreds and the matrix is very sparse.it would be highly inaccurate and inefficient to use eculidian distance"
      ]
    },
    {
      "cell_type": "markdown",
      "metadata": {
        "id": "a__ysIflH8mm"
      },
      "source": [
        "**Note:**\r\n",
        "The nearest neighbours algorithm is a lazy learner. we call the fit function here bcz internally, the appropriate data structure to be setup for fast lookup and computation of similarity metric"
      ]
    },
    {
      "cell_type": "code",
      "metadata": {
        "colab": {
          "base_uri": "https://localhost:8080/"
        },
        "id": "qrcdOz_vFVub",
        "outputId": "79cc1923-d549-43d9-a953-22d2a52c258a"
      },
      "source": [
        "model_knn = NearestNeighbors(metric='cosine',algorithm='brute')\r\n",
        "model_knn.fit(sparse_matrix)"
      ],
      "execution_count": 35,
      "outputs": [
        {
          "output_type": "execute_result",
          "data": {
            "text/plain": [
              "NearestNeighbors(algorithm='brute', leaf_size=30, metric='cosine',\n",
              "                 metric_params=None, n_jobs=None, n_neighbors=5, p=2,\n",
              "                 radius=1.0)"
            ]
          },
          "metadata": {
            "tags": []
          },
          "execution_count": 35
        }
      ]
    },
    {
      "cell_type": "markdown",
      "metadata": {
        "id": "DpSb9AaZJmUX"
      },
      "source": [
        "# Get Recommendations"
      ]
    },
    {
      "cell_type": "markdown",
      "metadata": {
        "id": "CbcLawqhJyha"
      },
      "source": [
        "### **Define a function to search for similar movies titles for a given keyword**"
      ]
    },
    {
      "cell_type": "markdown",
      "metadata": {
        "id": "jK7_F9HVJ_RC"
      },
      "source": [
        "The keyword provided may not be exact title of the movie. Therefore we will use the sequencematcher to perform the search.\r\n",
        "\r\n",
        "Here,we will select top 10 similar movie titles for given search keyword"
      ]
    },
    {
      "cell_type": "code",
      "metadata": {
        "id": "ZWeuEFiEI8CY"
      },
      "source": [
        "def find_matches(title_to_id, movie_title):\r\n",
        "  movie_ids = np.array(list(title_to_id.values())).astype(int)\r\n",
        "  titles = np.array (list(title_to_id.keys()))\r\n",
        "  ratios = list()\r\n",
        "  for title, movie_id in title_to_id.items():\r\n",
        "    ratio = SequenceMatcher(None,movie_title, title, autojunk=False).ratio()\r\n",
        "    ratios.append(ratio)\r\n",
        "  titles,ids = titles[np.argsort(ratios)][-10:], movie_ids[np.argsort(ratios)][-10:]\r\n",
        "  return list(reversed(list(zip(titles, ids))))"
      ],
      "execution_count": 39,
      "outputs": []
    },
    {
      "cell_type": "markdown",
      "metadata": {
        "id": "RdXg70yFPBPi"
      },
      "source": [
        " **Given a title of a movie , we will display aDropdown to display the options and to select the title**"
      ]
    },
    {
      "cell_type": "code",
      "metadata": {
        "colab": {
          "base_uri": "https://localhost:8080/",
          "height": 0,
          "referenced_widgets": [
            "2d30fe46083f4bee8db4b25360d2f731",
            "0b49d97ddb5d45c0bd7c11d93023b7d6",
            "9fdc25ca8b4748fab4cc1454ec2ee27d"
          ]
        },
        "id": "8QNQbDIXO_rk",
        "outputId": "464f795f-bc23-48f4-8388-1694ffe9e6ba"
      },
      "source": [
        "title = 'batman'\r\n",
        "options = find_matches(title_to_id, title)\r\n",
        "\r\n",
        "import ipywidgets as widgets\r\n",
        "drop = widgets.Dropdown(options=options)\r\n",
        "drop "
      ],
      "execution_count": 40,
      "outputs": [
        {
          "output_type": "display_data",
          "data": {
            "application/vnd.jupyter.widget-view+json": {
              "model_id": "2d30fe46083f4bee8db4b25360d2f731",
              "version_minor": 0,
              "version_major": 2
            },
            "text/plain": [
              "Dropdown(options=(('Batman (1989)', 155), ('Batman Begins (2005)', 860), ('Watchmen (2009)', 941), ('Batman & …"
            ]
          },
          "metadata": {
            "tags": []
          }
        }
      ]
    },
    {
      "cell_type": "markdown",
      "metadata": {
        "id": "IvrSkvTPTyYY"
      },
      "source": [
        "### **Show recommendations for a given movie**"
      ]
    },
    {
      "cell_type": "markdown",
      "metadata": {
        "id": "iWqXXjOmT-qR"
      },
      "source": [
        "For the given movie, the similarity measures b\\w the given movie all the samples in the dataset is computed.\r\n",
        "\r\n",
        "n_neighbors how mab=ny similar movies are shown as arecommendation"
      ]
    },
    {
      "cell_type": "code",
      "metadata": {
        "colab": {
          "base_uri": "https://localhost:8080/"
        },
        "id": "6_D-1mzZPune",
        "outputId": "b5f73b08-49e2-4e7a-c83a-d3e7bbcd33fb"
      },
      "source": [
        "movie_id =drop.value\r\n",
        "test = pivot_table.iloc[movie_id, :].values.reshape(1, -1)\r\n",
        "\r\n",
        "distances, indices = model_knn.kneighbors(test,n_neighbors=10 + 1)\r\n",
        "\r\n",
        "indices = indices.squeeze()[1:]\r\n",
        "\r\n",
        "print('Recommendations for : ', id_to_title[movie_id])\r\n",
        "for i, index in enumerate(indices):\r\n",
        "  print(i+1, '.', id_to_title[index])"
      ],
      "execution_count": 41,
      "outputs": [
        {
          "output_type": "stream",
          "text": [
            "Recommendations for :  Batman (1989)\n",
            "1 . Jurassic Park (1993)\n",
            "2 . Terminator 2: Judgment Day (1991)\n",
            "3 . Star Wars: Episode IV - A New Hope (1977)\n",
            "4 . Star Wars: Episode VI - Return of the Jedi (1983)\n",
            "5 . Indiana Jones and the Temple of Doom (1984)\n",
            "6 . True Lies (1994)\n",
            "7 . Terminator, The (1984)\n",
            "8 . Independence Day (a.k.a. ID4) (1996)\n",
            "9 . Batman Forever (1995)\n",
            "10 . Indiana Jones and the Last Crusade (1989)\n"
          ],
          "name": "stdout"
        }
      ]
    },
    {
      "cell_type": "code",
      "metadata": {
        "id": "-9OZDAoBUeCO"
      },
      "source": [
        ""
      ],
      "execution_count": 41,
      "outputs": []
    }
  ]
}